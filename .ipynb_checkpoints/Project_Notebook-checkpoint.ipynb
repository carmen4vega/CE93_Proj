{
 "cells": [
  {
   "cell_type": "markdown",
   "id": "cde53d8d-b205-4ea7-b319-94122658d110",
   "metadata": {},
   "source": [
    "# **Project Title**"
   ]
  },
  {
   "cell_type": "markdown",
   "id": "2a61e0b5-0458-461e-bd8c-24087e2831ed",
   "metadata": {},
   "source": [
    "### **Project Members**\n",
    "\n",
    "**Carmen Vega**: carmenvega@berkeley.edu <br>\n",
    "**Jude Hebert**: ... <br>\n",
    "**Diego Rodriguez**: ..."
   ]
  },
  {
   "cell_type": "markdown",
   "id": "4a0fabc3-9e9f-43cd-8f0f-6c279587397a",
   "metadata": {},
   "source": [
    "### **Libraries**"
   ]
  },
  {
   "cell_type": "code",
   "execution_count": 1,
   "id": "1255e2c7-3375-49a2-8846-f2e254d8e9fd",
   "metadata": {},
   "outputs": [],
   "source": [
    "#imports"
   ]
  },
  {
   "cell_type": "markdown",
   "id": "4fd79c12-cf23-40d6-91db-ab3de1896886",
   "metadata": {},
   "source": [
    "### **Introduction**"
   ]
  },
  {
   "cell_type": "code",
   "execution_count": null,
   "id": "9e5cd6f1-7902-48a7-bacf-b135e6660140",
   "metadata": {},
   "outputs": [],
   "source": []
  },
  {
   "cell_type": "markdown",
   "id": "f4e94509-039c-462c-b897-0034936387b5",
   "metadata": {},
   "source": [
    "### **Summary Statistics**"
   ]
  },
  {
   "cell_type": "code",
   "execution_count": 2,
   "id": "f9c7bf54-6a96-47d9-823a-92f695dbc305",
   "metadata": {},
   "outputs": [],
   "source": [
    "#codeandshit"
   ]
  },
  {
   "cell_type": "markdown",
   "id": "6cb3ea8d-8d66-4745-9b4e-d57faa5b17db",
   "metadata": {},
   "source": [
    "### **Visualizations**"
   ]
  },
  {
   "cell_type": "code",
   "execution_count": 3,
   "id": "ea01591c-0e27-4e25-83ca-63db1530242e",
   "metadata": {},
   "outputs": [],
   "source": [
    "#codeandshit"
   ]
  },
  {
   "cell_type": "markdown",
   "id": "e841fbe5-b242-4941-8523-776ef2b959fa",
   "metadata": {},
   "source": [
    "### **Independence**"
   ]
  },
  {
   "cell_type": "code",
   "execution_count": 4,
   "id": "9ee0cddd-2fbf-46d9-9d0e-9adb0f42edd0",
   "metadata": {},
   "outputs": [],
   "source": [
    "#codeandshit"
   ]
  },
  {
   "cell_type": "code",
   "execution_count": null,
   "id": "b3f6e29b-08f1-457f-9149-83d420317ac0",
   "metadata": {},
   "outputs": [],
   "source": []
  }
 ],
 "metadata": {
  "kernelspec": {
   "display_name": "Python 3 (ipykernel)",
   "language": "python",
   "name": "python3"
  },
  "language_info": {
   "codemirror_mode": {
    "name": "ipython",
    "version": 3
   },
   "file_extension": ".py",
   "mimetype": "text/x-python",
   "name": "python",
   "nbconvert_exporter": "python",
   "pygments_lexer": "ipython3",
   "version": "3.11.13"
  }
 },
 "nbformat": 4,
 "nbformat_minor": 5
}
