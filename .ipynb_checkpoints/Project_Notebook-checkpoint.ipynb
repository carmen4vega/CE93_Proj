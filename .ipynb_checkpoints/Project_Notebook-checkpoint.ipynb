{
 "cells": [
  {
   "cell_type": "markdown",
   "id": "cde53d8d-b205-4ea7-b319-94122658d110",
   "metadata": {},
   "source": [
    "# **Project Title**"
   ]
  },
  {
   "cell_type": "markdown",
   "id": "13a91619-f688-43c4-8b7b-6886eaa3f95b",
   "metadata": {},
   "source": [
    "#### Repository Link: https://github.com/carmen4vega/CE93_Proj"
   ]
  },
  {
   "cell_type": "markdown",
   "id": "2a61e0b5-0458-461e-bd8c-24087e2831ed",
   "metadata": {},
   "source": [
    "### **Project Members**\n",
    "\n",
    "**Carmen Vega**: carmenvega@berkeley.edu <br>\n",
    "**Jude Hebert**: ... <br>\n",
    "**Diego Rodriguez**: ..."
   ]
  },
  {
   "cell_type": "markdown",
   "id": "4a0fabc3-9e9f-43cd-8f0f-6c279587397a",
   "metadata": {},
   "source": [
    "### **Libraries**"
   ]
  },
  {
   "cell_type": "code",
   "execution_count": 3,
   "id": "1255e2c7-3375-49a2-8846-f2e254d8e9fd",
   "metadata": {},
   "outputs": [],
   "source": [
    "#imports\n",
    "import numpy as np                                 # ndarrays for gridded data\n",
    "import pandas as pd                                # DataFrames for tabular data\n",
    "import matplotlib.pyplot as plt                    # plotting\n",
    "import random                                      # random sampling\n",
    "from scipy.stats import *                          # common distributions, t-test\n",
    "import statistics as stats                         # statistics like mode\n",
    "from sklearn.linear_model import LinearRegression  # linear regression\n",
    "import statsmodels.api as sm                       # linear regression"
   ]
  },
  {
   "cell_type": "code",
   "execution_count": 16,
   "id": "80b97347-c824-4b18-8a1e-af229dbc9525",
   "metadata": {},
   "outputs": [],
   "source": [
    "#for formatting string text\n",
    "BOLD = \"\\033[1m\"\n",
    "RESET = \"\\033[0m\""
   ]
  },
  {
   "cell_type": "markdown",
   "id": "4fd79c12-cf23-40d6-91db-ab3de1896886",
   "metadata": {},
   "source": [
    "### **Introduction**"
   ]
  },
  {
   "cell_type": "markdown",
   "id": "a3f61cd7-16a8-424d-a77e-8f254b9be297",
   "metadata": {},
   "source": [
    "[Write a narrative paragraph or two describing the datasets, the variables they contain, and their data\n",
    "type. Expand on potential associations (relationships between the datasets) you expect, if any.]\n",
    "- expect association\n",
    "- chose year 2023 to compare because most recent year with the least missing data\n",
    "- look at csv files for datatypes and variables\n",
    "- global data"
   ]
  },
  {
   "cell_type": "markdown",
   "id": "84239919-4110-4d91-ad74-817f6be20849",
   "metadata": {},
   "source": [
    "#### <u>Fertility Data</u>"
   ]
  },
  {
   "cell_type": "code",
   "execution_count": 19,
   "id": "d0fde5d7-4afc-4934-aba8-5ded92f35596",
   "metadata": {
    "scrolled": true
   },
   "outputs": [
    {
     "name": "stdout",
     "output_type": "stream",
     "text": [
      "This dataset contains \u001b[1m265\u001b[0m measurements.\n",
      "Fertility Data (first 6 rows):\n"
     ]
    },
    {
     "data": {
      "text/html": [
       "<div>\n",
       "<style scoped>\n",
       "    .dataframe tbody tr th:only-of-type {\n",
       "        vertical-align: middle;\n",
       "    }\n",
       "\n",
       "    .dataframe tbody tr th {\n",
       "        vertical-align: top;\n",
       "    }\n",
       "\n",
       "    .dataframe thead th {\n",
       "        text-align: right;\n",
       "    }\n",
       "</style>\n",
       "<table border=\"1\" class=\"dataframe\">\n",
       "  <thead>\n",
       "    <tr style=\"text-align: right;\">\n",
       "      <th></th>\n",
       "      <th>Country Name</th>\n",
       "      <th>Fertility Rate [births per woman], 2023</th>\n",
       "    </tr>\n",
       "  </thead>\n",
       "  <tbody>\n",
       "    <tr>\n",
       "      <th>0</th>\n",
       "      <td>Aruba</td>\n",
       "      <td>1.602000</td>\n",
       "    </tr>\n",
       "    <tr>\n",
       "      <th>1</th>\n",
       "      <td>Africa Eastern and Southern</td>\n",
       "      <td>4.223771</td>\n",
       "    </tr>\n",
       "    <tr>\n",
       "      <th>2</th>\n",
       "      <td>Afghanistan</td>\n",
       "      <td>4.840000</td>\n",
       "    </tr>\n",
       "    <tr>\n",
       "      <th>3</th>\n",
       "      <td>Africa Western and Central</td>\n",
       "      <td>4.497707</td>\n",
       "    </tr>\n",
       "    <tr>\n",
       "      <th>4</th>\n",
       "      <td>Angola</td>\n",
       "      <td>5.124000</td>\n",
       "    </tr>\n",
       "    <tr>\n",
       "      <th>5</th>\n",
       "      <td>Albania</td>\n",
       "      <td>1.348000</td>\n",
       "    </tr>\n",
       "  </tbody>\n",
       "</table>\n",
       "</div>"
      ],
      "text/plain": [
       "                  Country Name  Fertility Rate [births per woman], 2023\n",
       "0                        Aruba                                 1.602000\n",
       "1  Africa Eastern and Southern                                 4.223771\n",
       "2                  Afghanistan                                 4.840000\n",
       "3   Africa Western and Central                                 4.497707\n",
       "4                       Angola                                 5.124000\n",
       "5                      Albania                                 1.348000"
      ]
     },
     "execution_count": 19,
     "metadata": {},
     "output_type": "execute_result"
    }
   ],
   "source": [
    "#load fertility data\n",
    "Fertility_Data = pd.read_csv('Fertility_Data.csv')\n",
    "#filter for only 2023 data\n",
    "Fert_23 = Fertility_Data[['Country Name', '2023']]\n",
    "#drop rows with no data, rename '2023' column\n",
    "Fert_23 = Fert_23.dropna().rename(columns={'2023': 'Fertility Rate [births per woman], 2023'})\n",
    "#display number of measurements and data structure\n",
    "print(f'This dataset contains {BOLD}{Fert_23.shape[0]}{RESET} measurements.')\n",
    "print(\"Fertility Data (first 6 rows):\")\n",
    "Fert_23.head(6)"
   ]
  },
  {
   "cell_type": "markdown",
   "id": "598ea581-8a81-41bc-b14e-42798fbc637c",
   "metadata": {},
   "source": [
    "#### <u>Female Population Data</u>"
   ]
  },
  {
   "cell_type": "code",
   "execution_count": 18,
   "id": "fb3301c1-cae6-4e7d-b64d-009c0045814b",
   "metadata": {},
   "outputs": [
    {
     "name": "stdout",
     "output_type": "stream",
     "text": [
      "This dataset contains \u001b[1m265\u001b[0m measurements.\n",
      "Female Population Data (first 6 rows):\n"
     ]
    },
    {
     "data": {
      "text/html": [
       "<div>\n",
       "<style scoped>\n",
       "    .dataframe tbody tr th:only-of-type {\n",
       "        vertical-align: middle;\n",
       "    }\n",
       "\n",
       "    .dataframe tbody tr th {\n",
       "        vertical-align: top;\n",
       "    }\n",
       "\n",
       "    .dataframe thead th {\n",
       "        text-align: right;\n",
       "    }\n",
       "</style>\n",
       "<table border=\"1\" class=\"dataframe\">\n",
       "  <thead>\n",
       "    <tr style=\"text-align: right;\">\n",
       "      <th></th>\n",
       "      <th>Country Name</th>\n",
       "      <th>Female Population Ages 20-24 [% of female population], 2023</th>\n",
       "    </tr>\n",
       "  </thead>\n",
       "  <tbody>\n",
       "    <tr>\n",
       "      <th>0</th>\n",
       "      <td>Aruba</td>\n",
       "      <td>5.371455</td>\n",
       "    </tr>\n",
       "    <tr>\n",
       "      <th>1</th>\n",
       "      <td>Africa Eastern and Southern</td>\n",
       "      <td>9.221934</td>\n",
       "    </tr>\n",
       "    <tr>\n",
       "      <th>2</th>\n",
       "      <td>Afghanistan</td>\n",
       "      <td>9.931871</td>\n",
       "    </tr>\n",
       "    <tr>\n",
       "      <th>3</th>\n",
       "      <td>Africa Western and Central</td>\n",
       "      <td>9.067182</td>\n",
       "    </tr>\n",
       "    <tr>\n",
       "      <th>4</th>\n",
       "      <td>Angola</td>\n",
       "      <td>8.389088</td>\n",
       "    </tr>\n",
       "    <tr>\n",
       "      <th>5</th>\n",
       "      <td>Albania</td>\n",
       "      <td>6.795010</td>\n",
       "    </tr>\n",
       "  </tbody>\n",
       "</table>\n",
       "</div>"
      ],
      "text/plain": [
       "                  Country Name  \\\n",
       "0                        Aruba   \n",
       "1  Africa Eastern and Southern   \n",
       "2                  Afghanistan   \n",
       "3   Africa Western and Central   \n",
       "4                       Angola   \n",
       "5                      Albania   \n",
       "\n",
       "   Female Population Ages 20-24 [% of female population], 2023  \n",
       "0                                           5.371455            \n",
       "1                                           9.221934            \n",
       "2                                           9.931871            \n",
       "3                                           9.067182            \n",
       "4                                           8.389088            \n",
       "5                                           6.795010            "
      ]
     },
     "execution_count": 18,
     "metadata": {},
     "output_type": "execute_result"
    }
   ],
   "source": [
    "#load population data\n",
    "Pop_Data = pd.read_csv('Female-Pop_Data.csv')\n",
    "#filter for only 2023 data\n",
    "Pop_23 = Pop_Data[['Country Name', '2023']]\n",
    "#drop rows with no data, rename '2023' column\n",
    "Pop_23 = Pop_23.dropna().rename(columns={'2023': 'Female Population Ages 20-24 [% of female population], 2023'})\n",
    "#display number of measurements and data structure\n",
    "print(f'This dataset contains {BOLD}{Pop_23.shape[0]}{RESET} measurements.')\n",
    "print(\"Female Population Data (first 6 rows):\")\n",
    "Pop_23.head(6)"
   ]
  },
  {
   "cell_type": "markdown",
   "id": "7da9e783-0b2c-4d9f-8e26-b40f74eb987f",
   "metadata": {},
   "source": [
    "#### <u>Combined Dataset</u>"
   ]
  },
  {
   "cell_type": "code",
   "execution_count": 61,
   "id": "bb0bc987-6a4b-4d80-b43c-d3c22f6cddcb",
   "metadata": {},
   "outputs": [
    {
     "name": "stdout",
     "output_type": "stream",
     "text": [
      "This dataset contains \u001b[1m265\u001b[0m measurements.\n",
      "Fertility vs Female Population Ages 20-24 (first 6 rows):\n"
     ]
    },
    {
     "data": {
      "text/html": [
       "<div>\n",
       "<style scoped>\n",
       "    .dataframe tbody tr th:only-of-type {\n",
       "        vertical-align: middle;\n",
       "    }\n",
       "\n",
       "    .dataframe tbody tr th {\n",
       "        vertical-align: top;\n",
       "    }\n",
       "\n",
       "    .dataframe thead th {\n",
       "        text-align: right;\n",
       "    }\n",
       "</style>\n",
       "<table border=\"1\" class=\"dataframe\">\n",
       "  <thead>\n",
       "    <tr style=\"text-align: right;\">\n",
       "      <th></th>\n",
       "      <th>Country Name</th>\n",
       "      <th>Fertility Rate</th>\n",
       "      <th>% of F Pop Ages 20-24</th>\n",
       "    </tr>\n",
       "  </thead>\n",
       "  <tbody>\n",
       "    <tr>\n",
       "      <th>0</th>\n",
       "      <td>Aruba</td>\n",
       "      <td>1.602000</td>\n",
       "      <td>5.371455</td>\n",
       "    </tr>\n",
       "    <tr>\n",
       "      <th>1</th>\n",
       "      <td>Africa Eastern and Southern</td>\n",
       "      <td>4.223771</td>\n",
       "      <td>9.221934</td>\n",
       "    </tr>\n",
       "    <tr>\n",
       "      <th>2</th>\n",
       "      <td>Afghanistan</td>\n",
       "      <td>4.840000</td>\n",
       "      <td>9.931871</td>\n",
       "    </tr>\n",
       "    <tr>\n",
       "      <th>3</th>\n",
       "      <td>Africa Western and Central</td>\n",
       "      <td>4.497707</td>\n",
       "      <td>9.067182</td>\n",
       "    </tr>\n",
       "    <tr>\n",
       "      <th>4</th>\n",
       "      <td>Angola</td>\n",
       "      <td>5.124000</td>\n",
       "      <td>8.389088</td>\n",
       "    </tr>\n",
       "    <tr>\n",
       "      <th>5</th>\n",
       "      <td>Albania</td>\n",
       "      <td>1.348000</td>\n",
       "      <td>6.795010</td>\n",
       "    </tr>\n",
       "  </tbody>\n",
       "</table>\n",
       "</div>"
      ],
      "text/plain": [
       "                  Country Name  Fertility Rate  % of F Pop Ages 20-24\n",
       "0                        Aruba        1.602000               5.371455\n",
       "1  Africa Eastern and Southern        4.223771               9.221934\n",
       "2                  Afghanistan        4.840000               9.931871\n",
       "3   Africa Western and Central        4.497707               9.067182\n",
       "4                       Angola        5.124000               8.389088\n",
       "5                      Albania        1.348000               6.795010"
      ]
     },
     "execution_count": 61,
     "metadata": {},
     "output_type": "execute_result"
    }
   ],
   "source": [
    "#combine datasets\n",
    "Data_23 = pd.merge(Fert_23, Pop_23, how=\"inner\", on=\"Country Name\")\n",
    "#rename columns\n",
    "Data_23 = Data_23.rename(columns={'Fertility Rate [births per woman], 2023': 'Fertility Rate', 'Female Population Ages 20-24 [% of female population], 2023': '% of F Pop Ages 20-24'})\n",
    "#display number of measurements and data structure\n",
    "print(f'This dataset contains {BOLD}{Data_23.shape[0]}{RESET} measurements.')\n",
    "print(\"Fertility vs Female Population Ages 20-24 (first 6 rows):\")\n",
    "Data_23.head(6)"
   ]
  },
  {
   "cell_type": "markdown",
   "id": "345e0d54-8963-4f73-962e-41cf7dfc8d88",
   "metadata": {},
   "source": [
    "**We sourced our own datasets** from World Bank. Our fertility data came from this webpage: https://data.worldbank.org/indicator/SP.DYN.TFRT.IN. Our female population (ages 20-24) data came from this webpage: https://data.worldbank.org/indicator/SP.POP.2024.FE.5Y. All data was last accessed on 10/20/2025."
   ]
  },
  {
   "cell_type": "markdown",
   "id": "f4e94509-039c-462c-b897-0034936387b5",
   "metadata": {},
   "source": [
    "### **Summary Statistics**"
   ]
  },
  {
   "cell_type": "markdown",
   "id": "71dbdb35-d981-415e-9a48-5bdbb3ff894c",
   "metadata": {},
   "source": [
    "#### <u>Central Tendency:</u> Mean and Median"
   ]
  },
  {
   "cell_type": "code",
   "execution_count": 38,
   "id": "e3b90368-4a88-40b9-a2ab-a041eb64b5a9",
   "metadata": {},
   "outputs": [
    {
     "name": "stdout",
     "output_type": "stream",
     "text": [
      "The \u001b[1mmean fertility rate\u001b[0m is \u001b[1m2.41\u001b[0m births per woman.\n"
     ]
    }
   ],
   "source": [
    "#fertility rate mean\n",
    "Fert_mean = np.mean(Fert_23['Fertility Rate [births per woman], 2023'])\n",
    "print(f'The {BOLD}mean fertility rate{RESET} is {BOLD}{round(Fert_mean, 2)}{RESET} births per woman.')"
   ]
  },
  {
   "cell_type": "code",
   "execution_count": 39,
   "id": "02200d96-f1fc-4a5a-a6e9-19ba2ecb609c",
   "metadata": {
    "scrolled": true
   },
   "outputs": [
    {
     "name": "stdout",
     "output_type": "stream",
     "text": [
      "The \u001b[1mmedian fertility rate\u001b[0m is \u001b[1m1.98\u001b[0m births per woman.\n"
     ]
    }
   ],
   "source": [
    "#fertility rate median\n",
    "Fert_median = np.median(Fert_23['Fertility Rate [births per woman], 2023'])\n",
    "print(f'The {BOLD}median fertility rate{RESET} is {BOLD}{round(Fert_median, 2)}{RESET} births per woman.')"
   ]
  },
  {
   "cell_type": "code",
   "execution_count": 48,
   "id": "f9c7bf54-6a96-47d9-823a-92f695dbc305",
   "metadata": {},
   "outputs": [
    {
     "name": "stdout",
     "output_type": "stream",
     "text": [
      "The \u001b[1mmean female population (ages 20-24)\u001b[0m is \u001b[1m7.37%\u001b[0m of the total female population.\n"
     ]
    }
   ],
   "source": [
    "#female population % mean\n",
    "Pop_mean = np.mean(Pop_23['Female Population Ages 20-24 [% of female population], 2023'])\n",
    "print(f'The {BOLD}mean female population (ages 20-24){RESET} is {BOLD}{round(Pop_mean, 2)}%{RESET} of the total female population.')"
   ]
  },
  {
   "cell_type": "code",
   "execution_count": 49,
   "id": "f7c95201-cab2-4d72-ba50-c3316cdb32f6",
   "metadata": {},
   "outputs": [
    {
     "name": "stdout",
     "output_type": "stream",
     "text": [
      "The \u001b[1mmedian female population (ages 20-24)\u001b[0m across all countries is \u001b[1m7.55%\u001b[0m of the total female population.\n"
     ]
    }
   ],
   "source": [
    "#female population % median\n",
    "Pop_median = np.median(Pop_23['Female Population Ages 20-24 [% of female population], 2023'])\n",
    "print(f'The {BOLD}median female population (ages 20-24){RESET} across all countries is {BOLD}{round(Pop_median, 2)}%{RESET} of the total female population.')"
   ]
  },
  {
   "cell_type": "markdown",
   "id": "4d4e061d-2483-4e63-973e-c7dac4a44cd2",
   "metadata": {},
   "source": [
    "#### <u>Variability:</u> Range, Standard Deviation, and Coefficient of Variation"
   ]
  },
  {
   "cell_type": "code",
   "execution_count": 50,
   "id": "cfa13d25-0ed8-40e7-98f6-7ac3428131ce",
   "metadata": {},
   "outputs": [
    {
     "name": "stdout",
     "output_type": "stream",
     "text": [
      "The \u001b[1mfertility rate range\u001b[0m is \u001b[1m5.55\u001b[0m births per woman.\n"
     ]
    }
   ],
   "source": [
    "#fertility range\n",
    "Fert_range = Fert_23['Fertility Rate [births per woman], 2023'].max() - Fert_23['Fertility Rate [births per woman], 2023'].min()\n",
    "print(f'The {BOLD}fertility rate range{RESET} is {BOLD}{round(Fert_range, 2)}{RESET} births per woman.')"
   ]
  },
  {
   "cell_type": "code",
   "execution_count": 51,
   "id": "1193ae74-0319-4ae3-a569-ba1070c241b9",
   "metadata": {},
   "outputs": [
    {
     "name": "stdout",
     "output_type": "stream",
     "text": [
      "The \u001b[1mfertility rate standard deviaton\u001b[0m is \u001b[1m1.19\u001b[0m births per woman.\n"
     ]
    }
   ],
   "source": [
    "#fertility standard deviation\n",
    "Fert_variance = Fert_23['Fertility Rate [births per woman], 2023'].var()\n",
    "Fert_stdev = np.sqrt(Fert_variance)\n",
    "print(f'The {BOLD}fertility rate standard deviaton{RESET} is {BOLD}{round(Fert_stdev, 2)}{RESET} births per woman.')"
   ]
  },
  {
   "cell_type": "code",
   "execution_count": 52,
   "id": "1488f686-5019-4f9a-8ade-ce62ae3ec5bd",
   "metadata": {},
   "outputs": [
    {
     "name": "stdout",
     "output_type": "stream",
     "text": [
      "The \u001b[1mfertility rate coefficient of variation\u001b[0m is \u001b[1m0.4955\u001b[0m or \u001b[1m49.55%\u001b[0m.\n"
     ]
    }
   ],
   "source": [
    "#fertility coefficient of variation\n",
    "Fert_cv = Fert_stdev / Fert_mean\n",
    "print(f'The {BOLD}fertility rate coefficient of variation{RESET} is {BOLD}{round(Fert_cv, 4)}{RESET} or {BOLD}{round(Fert_cv, 4)*100}%{RESET}.')"
   ]
  },
  {
   "cell_type": "code",
   "execution_count": 53,
   "id": "1c87572b-7995-45d9-9998-66b81671d027",
   "metadata": {},
   "outputs": [
    {
     "name": "stdout",
     "output_type": "stream",
     "text": [
      "The \u001b[1mfemale population (ages 20-24) range\u001b[0m is \u001b[1m7.77%\u001b[0m of the total female population.\n"
     ]
    }
   ],
   "source": [
    "#female population % range\n",
    "Pop_range = Pop_23['Female Population Ages 20-24 [% of female population], 2023'].max() - Pop_23['Female Population Ages 20-24 [% of female population], 2023'].min()\n",
    "print(f'The {BOLD}female population (ages 20-24) range{RESET} is {BOLD}{round(Pop_range, 2)}%{RESET} of the total female population.')"
   ]
  },
  {
   "cell_type": "code",
   "execution_count": 54,
   "id": "7b1ce4dc-33b8-45d0-b642-d86e76f45e32",
   "metadata": {},
   "outputs": [
    {
     "name": "stdout",
     "output_type": "stream",
     "text": [
      "The \u001b[1mfemale population (ages 20-24) standard deviaton\u001b[0m is \u001b[1m1.71%\u001b[0m of the total female population.\n"
     ]
    }
   ],
   "source": [
    "#female population % standard deviation\n",
    "Pop_variance = Pop_23['Female Population Ages 20-24 [% of female population], 2023'].var()\n",
    "Pop_stdev = np.sqrt(Pop_variance)\n",
    "print(f'The {BOLD}female population (ages 20-24) standard deviaton{RESET} is {BOLD}{round(Pop_stdev, 2)}%{RESET} of the total female population.')"
   ]
  },
  {
   "cell_type": "code",
   "execution_count": 56,
   "id": "b98e07ac-abf0-4cfe-a340-0c99e63a102d",
   "metadata": {},
   "outputs": [
    {
     "name": "stdout",
     "output_type": "stream",
     "text": [
      "The \u001b[1mfertility rate coefficient of variation\u001b[0m is \u001b[1m0.2321\u001b[0m or \u001b[1m23.21%\u001b[0m.\n"
     ]
    }
   ],
   "source": [
    "#female population % coefficient of variation\n",
    "Pop_cv = Pop_stdev / Pop_mean\n",
    "print(f'The {BOLD}fertility rate coefficient of variation{RESET} is {BOLD}{round(Pop_cv, 4)}{RESET} or {BOLD}{round(Pop_cv, 4)*100}%{RESET}.')"
   ]
  },
  {
   "cell_type": "markdown",
   "id": "6b8f0229-929a-436a-aa53-f0f054f06e3e",
   "metadata": {},
   "source": [
    "#### <u>Statistics Summary Table</u>"
   ]
  },
  {
   "cell_type": "markdown",
   "id": "f96293c5-8458-46bd-b653-ed13eebe1b18",
   "metadata": {},
   "source": [
    "| Data Measure | Fertility Data | Population Data |\n",
    "| :------- | :------: | -------: |\n",
    "| Mean | 2.41* | 7.37** | \n",
    "| Median | 1.98* | 7.55** |\n",
    "| Range | 5.55* | 7.77** |\n",
    "| Standard Deviation | 1.19* | 1.71** |\n",
    "| Coefficient of Variation | 0.4955 | 0.2321 |\n",
    "\n",
    "\\* births per woman globally in 2023 <br>\n",
    "** % of total female population between ages 20-24 globally in 2023"
   ]
  },
  {
   "cell_type": "markdown",
   "id": "eb6ae14f-ae52-4b29-914c-fea4b6ef9c15",
   "metadata": {},
   "source": [
    "#### <u>Statistics Discussion</u>"
   ]
  },
  {
   "cell_type": "markdown",
   "id": "3ab8ab64-7667-427f-8bed-c1115acdbaf5",
   "metadata": {},
   "source": [
    "[Discuss the characteristics of both datasets based on the numerical summaries.]"
   ]
  },
  {
   "cell_type": "markdown",
   "id": "729a9eaa-6013-46c9-878f-3f817f78017b",
   "metadata": {},
   "source": [
    "[Discuss the best measure of central tendency and best measure of variability for each dataset.]"
   ]
  },
  {
   "cell_type": "markdown",
   "id": "b6a06858-9e7f-4d28-a27e-1e4697a385f5",
   "metadata": {},
   "source": [
    "#### <u>Creating a New Variable</u>"
   ]
  },
  {
   "cell_type": "markdown",
   "id": "e9d887ee-9f3c-4fa6-b579-06a8b0b48273",
   "metadata": {},
   "source": [
    "We want to convert the variable '% of female population ages 20-24' into 'female population ages 20-24'. In order to do this, we need to import a separate dataset from World Bank that contains the total female population of each country. The total female population data we use is sourced from here: https://data.worldbank.org/indicator/SP.POP.TOTL.FE.IN. <br>\n",
    "\n",
    "Our data transformation can be represented by the equation: <br>\n",
    "<p style=\"text-align:center;\"> $Y = b_{i} * \\frac{X}{100}$ </p> <br>\n",
    "where $b_{i}$ represents the respective total female population for each country, $X$ represents the percent of the total female population between ages 20 to 24, and $Y$ represents the total female population between ages 20 to 24."
   ]
  },
  {
   "cell_type": "markdown",
   "id": "48e4d453-af01-4356-869e-a79a58075d94",
   "metadata": {},
   "source": [
    "_We begin our transformation by importing the total female population data:_"
   ]
  },
  {
   "cell_type": "code",
   "execution_count": 83,
   "id": "4720b64a-3655-4e50-9f43-76bfcbdba306",
   "metadata": {
    "scrolled": true
   },
   "outputs": [
    {
     "name": "stdout",
     "output_type": "stream",
     "text": [
      "This dataset contains \u001b[1m265\u001b[0m measurements.\n",
      "Total Population Data (first 6 rows):\n"
     ]
    },
    {
     "data": {
      "text/html": [
       "<div>\n",
       "<style scoped>\n",
       "    .dataframe tbody tr th:only-of-type {\n",
       "        vertical-align: middle;\n",
       "    }\n",
       "\n",
       "    .dataframe tbody tr th {\n",
       "        vertical-align: top;\n",
       "    }\n",
       "\n",
       "    .dataframe thead th {\n",
       "        text-align: right;\n",
       "    }\n",
       "</style>\n",
       "<table border=\"1\" class=\"dataframe\">\n",
       "  <thead>\n",
       "    <tr style=\"text-align: right;\">\n",
       "      <th></th>\n",
       "      <th>Country Name</th>\n",
       "      <th>Female Population, 2023</th>\n",
       "    </tr>\n",
       "  </thead>\n",
       "  <tbody>\n",
       "    <tr>\n",
       "      <th>0</th>\n",
       "      <td>Aruba</td>\n",
       "      <td>56653.0</td>\n",
       "    </tr>\n",
       "    <tr>\n",
       "      <th>1</th>\n",
       "      <td>Africa Eastern and Southern</td>\n",
       "      <td>379025748.0</td>\n",
       "    </tr>\n",
       "    <tr>\n",
       "      <th>2</th>\n",
       "      <td>Afghanistan</td>\n",
       "      <td>20530683.0</td>\n",
       "    </tr>\n",
       "    <tr>\n",
       "      <th>3</th>\n",
       "      <td>Africa Western and Central</td>\n",
       "      <td>252899429.0</td>\n",
       "    </tr>\n",
       "    <tr>\n",
       "      <th>4</th>\n",
       "      <td>Angola</td>\n",
       "      <td>18568216.0</td>\n",
       "    </tr>\n",
       "    <tr>\n",
       "      <th>5</th>\n",
       "      <td>Albania</td>\n",
       "      <td>1388342.0</td>\n",
       "    </tr>\n",
       "  </tbody>\n",
       "</table>\n",
       "</div>"
      ],
      "text/plain": [
       "                  Country Name  Female Population, 2023\n",
       "0                        Aruba                  56653.0\n",
       "1  Africa Eastern and Southern              379025748.0\n",
       "2                  Afghanistan               20530683.0\n",
       "3   Africa Western and Central              252899429.0\n",
       "4                       Angola               18568216.0\n",
       "5                      Albania                1388342.0"
      ]
     },
     "execution_count": 83,
     "metadata": {},
     "output_type": "execute_result"
    }
   ],
   "source": [
    "#import new dataset: total female population data\n",
    "PopTot_Data = pd.read_csv('Total-Fem-Pop_Data.csv')\n",
    "#filter for only 2023 data\n",
    "PopTot_23 = PopTot_Data[['Country Name', '2023']]\n",
    "#drop rows with no data, rename '2023' column\n",
    "PopTot_23 = PopTot_23.dropna().rename(columns={'2023': 'Female Population, 2023'})\n",
    "#display total population data\n",
    "print(f'This dataset contains {BOLD}{PopTot_23.shape[0]}{RESET} measurements.')\n",
    "print(\"Total Population Data (first 6 rows):\")\n",
    "PopTot_23.head(6)"
   ]
  },
  {
   "cell_type": "markdown",
   "id": "d6c28a03-fe4c-480e-b42a-31fe92c32dc3",
   "metadata": {},
   "source": [
    "_Next, we create our $Y$ variable, defined as `TotPop_Ages20to24`, and insert it into a new dataframe, `TotPop_23`:_"
   ]
  },
  {
   "cell_type": "code",
   "execution_count": 80,
   "id": "c93f69e1-99d8-476f-9997-b1e0f3b45d1e",
   "metadata": {},
   "outputs": [
    {
     "data": {
      "text/plain": [
       "True"
      ]
     },
     "execution_count": 80,
     "metadata": {},
     "output_type": "execute_result"
    }
   ],
   "source": [
    "#ensure country data matches for both datasets\n",
    "sum(PopTot_23['Country Name'] == Pop_23['Country Name']) == 265"
   ]
  },
  {
   "cell_type": "code",
   "execution_count": 85,
   "id": "a268affd-64f0-4a5e-9c93-4376973af6ad",
   "metadata": {
    "scrolled": true
   },
   "outputs": [
    {
     "name": "stdout",
     "output_type": "stream",
     "text": [
      "Dataframe with new Y variable:\n"
     ]
    },
    {
     "data": {
      "text/html": [
       "<div>\n",
       "<style scoped>\n",
       "    .dataframe tbody tr th:only-of-type {\n",
       "        vertical-align: middle;\n",
       "    }\n",
       "\n",
       "    .dataframe tbody tr th {\n",
       "        vertical-align: top;\n",
       "    }\n",
       "\n",
       "    .dataframe thead th {\n",
       "        text-align: right;\n",
       "    }\n",
       "</style>\n",
       "<table border=\"1\" class=\"dataframe\">\n",
       "  <thead>\n",
       "    <tr style=\"text-align: right;\">\n",
       "      <th></th>\n",
       "      <th>Country Name</th>\n",
       "      <th>Female Pop Ages 20-24 (Y)</th>\n",
       "    </tr>\n",
       "  </thead>\n",
       "  <tbody>\n",
       "    <tr>\n",
       "      <th>0</th>\n",
       "      <td>Aruba</td>\n",
       "      <td>3.043090e+03</td>\n",
       "    </tr>\n",
       "    <tr>\n",
       "      <th>1</th>\n",
       "      <td>Africa Eastern and Southern</td>\n",
       "      <td>3.495351e+07</td>\n",
       "    </tr>\n",
       "    <tr>\n",
       "      <th>2</th>\n",
       "      <td>Afghanistan</td>\n",
       "      <td>2.039081e+06</td>\n",
       "    </tr>\n",
       "    <tr>\n",
       "      <th>3</th>\n",
       "      <td>Africa Western and Central</td>\n",
       "      <td>2.293085e+07</td>\n",
       "    </tr>\n",
       "    <tr>\n",
       "      <th>4</th>\n",
       "      <td>Angola</td>\n",
       "      <td>1.557704e+06</td>\n",
       "    </tr>\n",
       "    <tr>\n",
       "      <th>5</th>\n",
       "      <td>Albania</td>\n",
       "      <td>9.433798e+04</td>\n",
       "    </tr>\n",
       "  </tbody>\n",
       "</table>\n",
       "</div>"
      ],
      "text/plain": [
       "                  Country Name  Female Pop Ages 20-24 (Y)\n",
       "0                        Aruba               3.043090e+03\n",
       "1  Africa Eastern and Southern               3.495351e+07\n",
       "2                  Afghanistan               2.039081e+06\n",
       "3   Africa Western and Central               2.293085e+07\n",
       "4                       Angola               1.557704e+06\n",
       "5                      Albania               9.433798e+04"
      ]
     },
     "execution_count": 85,
     "metadata": {},
     "output_type": "execute_result"
    }
   ],
   "source": [
    "#compute Y\n",
    "TotPop_Ages20to24 = PopTot_23['Female Population, 2023'] * (Pop_23['Female Population Ages 20-24 [% of female population], 2023'] / 100)\n",
    "#create new dataframe\n",
    "TotPop_23 = Pop_23.drop(['Female Population Ages 20-24 [% of female population], 2023'], axis=1)\n",
    "TotPop_23['Female Pop Ages 20-24 (Y)'] = TotPop_Ages20to24\n",
    "#display new dataframe\n",
    "print('Dataframe with new Y variable:')\n",
    "TotPop_23.head(6)"
   ]
  },
  {
   "cell_type": "markdown",
   "id": "2d3f4bbe-5cc8-4eb0-92d5-7a794c77e55b",
   "metadata": {},
   "source": [
    "_We next will compute the **mean** and **coefficient of variation** for our new Y variable:_"
   ]
  },
  {
   "cell_type": "code",
   "execution_count": 93,
   "id": "ee6d1945-1622-4711-8e32-6a7a5f2a2a5f",
   "metadata": {},
   "outputs": [
    {
     "name": "stdout",
     "output_type": "stream",
     "text": [
      "The \u001b[1mmean female population (ages 20-24)\u001b[0m is \u001b[1m12451424.0\u001b[0m people.\n"
     ]
    }
   ],
   "source": [
    "#computing and outputting mean\n",
    "TotPop_mean = np.mean(TotPop_23['Female Pop Ages 20-24 (Y)'])\n",
    "print(f'The {BOLD}mean female population (ages 20-24){RESET} is {BOLD}{round(TotPop_mean, 0)}{RESET} people.')"
   ]
  },
  {
   "cell_type": "code",
   "execution_count": 99,
   "id": "908aa85f-290b-4739-9e78-70dc8ec587a6",
   "metadata": {},
   "outputs": [
    {
     "name": "stdout",
     "output_type": "stream",
     "text": [
      "The \u001b[1mfemale population (ages 20-24) coefficient of variation\u001b[0m is \u001b[1m3.075\u001b[0m or \u001b[1m307.5%\u001b[0m.\n"
     ]
    }
   ],
   "source": [
    "#computing and outputting coefficient of variation\n",
    "TotPop_variance = TotPop_23['Female Pop Ages 20-24 (Y)'].var()\n",
    "TotPop_stdev = np.sqrt(TotPop_variance)\n",
    "TotPop_cv = TotPop_stdev / TotPop_mean\n",
    "print(f'The {BOLD}female population (ages 20-24) coefficient of variation{RESET} is {BOLD}{round(TotPop_cv, 3)}{RESET} or {BOLD}{round(TotPop_cv, 3)*100}%{RESET}.')"
   ]
  },
  {
   "cell_type": "markdown",
   "id": "2377f5d3-6761-4ccc-8cb9-b5f7a8de3291",
   "metadata": {},
   "source": [
    "#### <u>New Variable Discussion</u>"
   ]
  },
  {
   "cell_type": "markdown",
   "id": "895fcfee-2797-4076-95e9-f1fcbba8145a",
   "metadata": {},
   "source": [
    "[Discuss whether the numerical summaries of the new variable can be computed by converting the\n",
    "numerical summaries from the first two parts using the full equation you defined or part of it.]"
   ]
  },
  {
   "cell_type": "markdown",
   "id": "6cb3ea8d-8d66-4745-9b4e-d57faa5b17db",
   "metadata": {},
   "source": [
    "### **Visualizations**"
   ]
  },
  {
   "cell_type": "markdown",
   "id": "1f8e9c15-45d2-4ac2-aa65-7dc2165b9fdc",
   "metadata": {},
   "source": [
    "#### <u>Fertility Data Visualizations</u>"
   ]
  },
  {
   "cell_type": "code",
   "execution_count": 118,
   "id": "22c6d0b3-12ef-4b09-ba8c-13edf3b53176",
   "metadata": {},
   "outputs": [
    {
     "data": {
      "text/html": [
       "<div>\n",
       "<style scoped>\n",
       "    .dataframe tbody tr th:only-of-type {\n",
       "        vertical-align: middle;\n",
       "    }\n",
       "\n",
       "    .dataframe tbody tr th {\n",
       "        vertical-align: top;\n",
       "    }\n",
       "\n",
       "    .dataframe thead th {\n",
       "        text-align: right;\n",
       "    }\n",
       "</style>\n",
       "<table border=\"1\" class=\"dataframe\">\n",
       "  <thead>\n",
       "    <tr style=\"text-align: right;\">\n",
       "      <th></th>\n",
       "      <th>Country Name</th>\n",
       "      <th>Fertility Rate [births per woman], 2023</th>\n",
       "    </tr>\n",
       "  </thead>\n",
       "  <tbody>\n",
       "    <tr>\n",
       "      <th>0</th>\n",
       "      <td>Aruba</td>\n",
       "      <td>1.602000</td>\n",
       "    </tr>\n",
       "    <tr>\n",
       "      <th>1</th>\n",
       "      <td>Africa Eastern and Southern</td>\n",
       "      <td>4.223771</td>\n",
       "    </tr>\n",
       "    <tr>\n",
       "      <th>2</th>\n",
       "      <td>Afghanistan</td>\n",
       "      <td>4.840000</td>\n",
       "    </tr>\n",
       "  </tbody>\n",
       "</table>\n",
       "</div>"
      ],
      "text/plain": [
       "                  Country Name  Fertility Rate [births per woman], 2023\n",
       "0                        Aruba                                 1.602000\n",
       "1  Africa Eastern and Southern                                 4.223771\n",
       "2                  Afghanistan                                 4.840000"
      ]
     },
     "execution_count": 118,
     "metadata": {},
     "output_type": "execute_result"
    }
   ],
   "source": [
    "Fert_23.head(3)"
   ]
  },
  {
   "cell_type": "code",
   "execution_count": 132,
   "id": "da24d197-8df6-4769-8f84-fce8ca0f43a0",
   "metadata": {
    "scrolled": true
   },
   "outputs": [
    {
     "data": {
      "image/png": "[encoded data removed]",
      "text/plain": [
       "<Figure size 600x400 with 1 Axes>"
      ]
     },
     "metadata": {},
     "output_type": "display_data"
    }
   ],
   "source": [
    "#boxplot of fertility rates\n",
    "plt.figure(figsize=(6, 4))\n",
    "plt.boxplot(Fert_23['Fertility Rate [births per woman], 2023'], \n",
    "            boxprops=dict(linewidth=2),\n",
    "            medianprops=dict(color='royalblue'))\n",
    "plt.title('Boxplot of Global Fertility Rate, 2023')\n",
    "plt.ylabel('Births per Woman')\n",
    "plt.xlabel(None)\n",
    "plt.grid(True, linestyle='--')\n",
    "plt.show()"
   ]
  },
  {
   "cell_type": "markdown",
   "id": "62c5422b-b649-445d-91a4-fca4bfc6da87",
   "metadata": {},
   "source": [
    "[A supporting paragraph for boxplot describing the data characteristics.]"
   ]
  },
  {
   "cell_type": "code",
   "execution_count": 131,
   "id": "b842ff72-d24d-48d3-bffe-7c4cb32db6e3",
   "metadata": {
    "scrolled": true
   },
   "outputs": [
    {
     "data": {
      "image/png": "[encoded data removed]",
      "text/plain": [
       "<Figure size 600x400 with 1 Axes>"
      ]
     },
     "metadata": {},
     "output_type": "display_data"
    }
   ],
   "source": [
    "#histogram of fertility rates\n",
    "plt.figure(figsize=(6, 4))\n",
    "plt.hist(Fert_23['Fertility Rate [births per woman], 2023'], bins=10, color='royalblue', edgecolor='navy', alpha=0.8)\n",
    "plt.title('Histogram of Global Fertility Rate, 2023')\n",
    "plt.xlabel('Births per woman')\n",
    "plt.ylabel('Frequency')\n",
    "plt.show()"
   ]
  },
  {
   "cell_type": "markdown",
   "id": "b4ac310e-13cc-4322-a74d-3300939d11ae",
   "metadata": {},
   "source": [
    "[A supporting paragraph for histogram describing the data characteristics.]"
   ]
  },
  {
   "cell_type": "code",
   "execution_count": 140,
   "id": "6d862dcb-29fb-47c5-b5b0-2ef6d6051c7a",
   "metadata": {
    "scrolled": true
   },
   "outputs": [
    {
     "data": {
      "image/png": "[encoded data removed]",
      "text/plain": [
       "<Figure size 600x400 with 1 Axes>"
      ]
     },
     "metadata": {},
     "output_type": "display_data"
    }
   ],
   "source": [
    "#cumulative distribution function of fertility rates\n",
    "\n",
    "#sort data\n",
    "fert_var = Fert_23['Fertility Rate [births per woman], 2023']\n",
    "sorted_data = np.sort(fert_var)\n",
    "#create cumulative frequencies\n",
    "cum_freq = np.arange(1, len(fert_var)+1) / len(fert_var)\n",
    "\n",
    "#plot\n",
    "plt.figure(figsize=(6,4))\n",
    "plt.step(sorted_data, cum_freq, where='post', color='royalblue', linewidth=2)\n",
    "plt.fill_between(sorted_data, 0, cum_freq, color='navy', alpha=0.3)\n",
    "plt.xlabel('Births per woman')\n",
    "plt.ylabel('Relative cumulative frequency')\n",
    "plt.title('CDF of Global Fertility Rate, 2023')\n",
    "plt.show()"
   ]
  },
  {
   "cell_type": "markdown",
   "id": "696fc22a-b228-4be0-b3f2-93cef9264934",
   "metadata": {},
   "source": [
    "[A supporting paragraph for CDF plot describing the data characteristics.]"
   ]
  },
  {
   "cell_type": "markdown",
   "id": "7ec3b6e5-aec8-437d-949a-ff40ede37250",
   "metadata": {},
   "source": [
    "#### <u>Scatter Plot</u>"
   ]
  },
  {
   "cell_type": "code",
   "execution_count": 142,
   "id": "ea01591c-0e27-4e25-83ca-63db1530242e",
   "metadata": {
    "scrolled": true
   },
   "outputs": [
    {
     "data": {
      "image/png": "[encoded data removed]",
      "text/plain": [
       "<Figure size 600x400 with 1 Axes>"
      ]
     },
     "metadata": {},
     "output_type": "display_data"
    }
   ],
   "source": [
    "#define variables\n",
    "x = Data_23['Fertility Rate']\n",
    "y = Data_23['% of F Pop Ages 20-24']\n",
    "\n",
    "#plot regression line\n",
    "slope, intercept = np.polyfit(x, y, deg=1)\n",
    "reg_line = slope * x + intercept\n",
    "\n",
    "#plot data\n",
    "plt.figure(figsize=(6, 4))\n",
    "plt.scatter(x, y, color='navy', alpha=0.8)\n",
    "plt.plot(x, reg_line, color='royalblue', label='Regression Line', alpha=0.5)\n",
    "plt.xlabel('Births per woman')\n",
    "plt.ylabel('% of female population ages 20-24')\n",
    "plt.title('Global Fertility vs Percent of Female Population Ages 20-24')\n",
    "plt.legend()\n",
    "plt.grid(True)\n",
    "plt.show()"
   ]
  },
  {
   "cell_type": "markdown",
   "id": "1445db92-e5ba-4661-b965-7408ed092649",
   "metadata": {},
   "source": [
    "[Provide a supporting paragraph describing the relationships/trends that are apparent. Discuss what\n",
    "these trends suggest about the datasets.]"
   ]
  },
  {
   "cell_type": "markdown",
   "id": "e841fbe5-b242-4941-8523-776ef2b959fa",
   "metadata": {},
   "source": [
    "### **Independence**"
   ]
  },
  {
   "cell_type": "code",
   "execution_count": 147,
   "id": "9ee0cddd-2fbf-46d9-9d0e-9adb0f42edd0",
   "metadata": {},
   "outputs": [
    {
     "name": "stdout",
     "output_type": "stream",
     "text": [
      "\u001b[1mCorrelation coefficient (R):\u001b[0m 0.689\n",
      "\u001b[1mCovariance:\u001b[0m 1.408\n"
     ]
    }
   ],
   "source": [
    "#calculate correlation coefficient\n",
    "r = x.corr(y)\n",
    "print(f'{BOLD}Correlation coefficient (R):{RESET} {round(r, 3)}')\n",
    "#calculate covariance\n",
    "cov = x.cov(y)\n",
    "print(f'{BOLD}Covariance:{RESET} {round(cov, 3)}')"
   ]
  },
  {
   "cell_type": "markdown",
   "id": "5f0d1364-bf3b-4f31-b0cd-ab17f57ae9e7",
   "metadata": {},
   "source": [
    "[Provide a supporting paragraph discussing the values, the strength of the dependence/independence\n",
    "between the two datasets, and whether it makes sense.]"
   ]
  },
  {
   "cell_type": "markdown",
   "id": "6455a407-e472-4598-89a1-ce9bb1d80ff6",
   "metadata": {},
   "source": [
    "[Discuss potential factors that could contribute to the observed dependence/independence.]"
   ]
  }
 ],
 "metadata": {
  "kernelspec": {
   "display_name": "Python 3 (ipykernel)",
   "language": "python",
   "name": "python3"
  },
  "language_info": {
   "codemirror_mode": {
    "name": "ipython",
    "version": 3
   },
   "file_extension": ".py",
   "mimetype": "text/x-python",
   "name": "python",
   "nbconvert_exporter": "python",
   "pygments_lexer": "ipython3",
   "version": "3.11.13"
  }
 },
 "nbformat": 4,
 "nbformat_minor": 5
}
