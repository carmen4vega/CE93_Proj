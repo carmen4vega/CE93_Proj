{
 "cells": [
  {
   "cell_type": "markdown",
   "id": "cde53d8d-b205-4ea7-b319-94122658d110",
   "metadata": {},
   "source": [
    "# **Project Title**"
   ]
  },
  {
   "cell_type": "markdown",
   "id": "2a61e0b5-0458-461e-bd8c-24087e2831ed",
   "metadata": {},
   "source": [
    "### **Project Members**\n",
    "\n",
    "**Carmen Vega**: carmenvega@berkeley.edu <br>\n",
    "**Jude Hebert**: ... <br>\n",
    "**Diego Rodriguez**: ..."
   ]
  },
  {
   "cell_type": "markdown",
   "id": "4a0fabc3-9e9f-43cd-8f0f-6c279587397a",
   "metadata": {},
   "source": [
    "### **Libraries**"
   ]
  },
  {
   "cell_type": "code",
   "execution_count": 1,
   "id": "1255e2c7-3375-49a2-8846-f2e254d8e9fd",
   "metadata": {},
   "outputs": [],
   "source": [
    "#imports\n",
    "import numpy as np                                 # ndarrays for gridded data\n",
    "import pandas as pd                                # DataFrames for tabular data\n",
    "import matplotlib.pyplot as plt                    # plotting\n",
    "import random                                      # random sampling\n",
    "from scipy.stats import *                          # common distributions, t-test\n",
    "import statistics as stats                         # statistics like mode\n",
    "from sklearn.linear_model import LinearRegression  # linear regression\n",
    "import statsmodels.api as sm                       # linear regression"
   ]
  },
  {
   "cell_type": "markdown",
   "id": "4fd79c12-cf23-40d6-91db-ab3de1896886",
   "metadata": {},
   "source": [
    "### **Introduction**"
   ]
  },
  {
   "cell_type": "markdown",
   "id": "a3f61cd7-16a8-424d-a77e-8f254b9be297",
   "metadata": {},
   "source": [
    "[Write a narrative paragraph or two describing the datasets, the variables they contain, and their data\n",
    "type. Expand on potential associations (relationships between the datasets) you expect, if any.]"
   ]
  },
  {
   "cell_type": "code",
   "execution_count": 2,
   "id": "d0fde5d7-4afc-4934-aba8-5ded92f35596",
   "metadata": {
    "scrolled": true
   },
   "outputs": [
    {
     "data": {
      "text/html": [
       "<div>\n",
       "<style scoped>\n",
       "    .dataframe tbody tr th:only-of-type {\n",
       "        vertical-align: middle;\n",
       "    }\n",
       "\n",
       "    .dataframe tbody tr th {\n",
       "        vertical-align: top;\n",
       "    }\n",
       "\n",
       "    .dataframe thead th {\n",
       "        text-align: right;\n",
       "    }\n",
       "</style>\n",
       "<table border=\"1\" class=\"dataframe\">\n",
       "  <thead>\n",
       "    <tr style=\"text-align: right;\">\n",
       "      <th></th>\n",
       "      <th>Country Name</th>\n",
       "      <th>2023</th>\n",
       "    </tr>\n",
       "  </thead>\n",
       "  <tbody>\n",
       "    <tr>\n",
       "      <th>0</th>\n",
       "      <td>Aruba</td>\n",
       "      <td>1.602000</td>\n",
       "    </tr>\n",
       "    <tr>\n",
       "      <th>1</th>\n",
       "      <td>Africa Eastern and Southern</td>\n",
       "      <td>4.223771</td>\n",
       "    </tr>\n",
       "    <tr>\n",
       "      <th>2</th>\n",
       "      <td>Afghanistan</td>\n",
       "      <td>4.840000</td>\n",
       "    </tr>\n",
       "    <tr>\n",
       "      <th>3</th>\n",
       "      <td>Africa Western and Central</td>\n",
       "      <td>4.497707</td>\n",
       "    </tr>\n",
       "    <tr>\n",
       "      <th>4</th>\n",
       "      <td>Angola</td>\n",
       "      <td>5.124000</td>\n",
       "    </tr>\n",
       "    <tr>\n",
       "      <th>5</th>\n",
       "      <td>Albania</td>\n",
       "      <td>1.348000</td>\n",
       "    </tr>\n",
       "  </tbody>\n",
       "</table>\n",
       "</div>"
      ],
      "text/plain": [
       "                  Country Name      2023\n",
       "0                        Aruba  1.602000\n",
       "1  Africa Eastern and Southern  4.223771\n",
       "2                  Afghanistan  4.840000\n",
       "3   Africa Western and Central  4.497707\n",
       "4                       Angola  5.124000\n",
       "5                      Albania  1.348000"
      ]
     },
     "execution_count": 2,
     "metadata": {},
     "output_type": "execute_result"
    }
   ],
   "source": [
    "#load fertility data\n",
    "Fertility_Data = pd.read_csv('Fertility_Data.csv')\n",
    "#filter for only 2023 data\n",
    "Fert_23 = Fertility_Data[['Country Name', '2023']]\n",
    "#drop rows with no data\n",
    "Fert_23 = Fert_23.dropna()\n",
    "#display\n",
    "Fert_23.head(6)"
   ]
  },
  {
   "cell_type": "code",
   "execution_count": 3,
   "id": "fb3301c1-cae6-4e7d-b64d-009c0045814b",
   "metadata": {},
   "outputs": [
    {
     "data": {
      "text/html": [
       "<div>\n",
       "<style scoped>\n",
       "    .dataframe tbody tr th:only-of-type {\n",
       "        vertical-align: middle;\n",
       "    }\n",
       "\n",
       "    .dataframe tbody tr th {\n",
       "        vertical-align: top;\n",
       "    }\n",
       "\n",
       "    .dataframe thead th {\n",
       "        text-align: right;\n",
       "    }\n",
       "</style>\n",
       "<table border=\"1\" class=\"dataframe\">\n",
       "  <thead>\n",
       "    <tr style=\"text-align: right;\">\n",
       "      <th></th>\n",
       "      <th>Country Name</th>\n",
       "      <th>2023</th>\n",
       "    </tr>\n",
       "  </thead>\n",
       "  <tbody>\n",
       "    <tr>\n",
       "      <th>0</th>\n",
       "      <td>Aruba</td>\n",
       "      <td>5.371455</td>\n",
       "    </tr>\n",
       "    <tr>\n",
       "      <th>1</th>\n",
       "      <td>Africa Eastern and Southern</td>\n",
       "      <td>9.221934</td>\n",
       "    </tr>\n",
       "    <tr>\n",
       "      <th>2</th>\n",
       "      <td>Afghanistan</td>\n",
       "      <td>9.931871</td>\n",
       "    </tr>\n",
       "    <tr>\n",
       "      <th>3</th>\n",
       "      <td>Africa Western and Central</td>\n",
       "      <td>9.067182</td>\n",
       "    </tr>\n",
       "    <tr>\n",
       "      <th>4</th>\n",
       "      <td>Angola</td>\n",
       "      <td>8.389088</td>\n",
       "    </tr>\n",
       "    <tr>\n",
       "      <th>5</th>\n",
       "      <td>Albania</td>\n",
       "      <td>6.795010</td>\n",
       "    </tr>\n",
       "  </tbody>\n",
       "</table>\n",
       "</div>"
      ],
      "text/plain": [
       "                  Country Name      2023\n",
       "0                        Aruba  5.371455\n",
       "1  Africa Eastern and Southern  9.221934\n",
       "2                  Afghanistan  9.931871\n",
       "3   Africa Western and Central  9.067182\n",
       "4                       Angola  8.389088\n",
       "5                      Albania  6.795010"
      ]
     },
     "execution_count": 3,
     "metadata": {},
     "output_type": "execute_result"
    }
   ],
   "source": [
    "#load population data\n",
    "Pop_Data = pd.read_csv('Female-Pop_Data.csv')\n",
    "#filter for only 2023 data\n",
    "Pop_23 = Pop_Data[['Country Name', '2023']]\n",
    "#drop rows with no data\n",
    "Pop_23 = Pop_23.dropna()\n",
    "#display\n",
    "Pop_23.head(6)"
   ]
  },
  {
   "cell_type": "code",
   "execution_count": 4,
   "id": "bb0bc987-6a4b-4d80-b43c-d3c22f6cddcb",
   "metadata": {},
   "outputs": [
    {
     "data": {
      "text/html": [
       "<div>\n",
       "<style scoped>\n",
       "    .dataframe tbody tr th:only-of-type {\n",
       "        vertical-align: middle;\n",
       "    }\n",
       "\n",
       "    .dataframe tbody tr th {\n",
       "        vertical-align: top;\n",
       "    }\n",
       "\n",
       "    .dataframe thead th {\n",
       "        text-align: right;\n",
       "    }\n",
       "</style>\n",
       "<table border=\"1\" class=\"dataframe\">\n",
       "  <thead>\n",
       "    <tr style=\"text-align: right;\">\n",
       "      <th></th>\n",
       "      <th>Country Name</th>\n",
       "      <th>Fertility Rate [births per woman]</th>\n",
       "      <th>Female Population Ages 20-24 [% of female population]</th>\n",
       "    </tr>\n",
       "  </thead>\n",
       "  <tbody>\n",
       "    <tr>\n",
       "      <th>0</th>\n",
       "      <td>Aruba</td>\n",
       "      <td>1.602000</td>\n",
       "      <td>5.371455</td>\n",
       "    </tr>\n",
       "    <tr>\n",
       "      <th>1</th>\n",
       "      <td>Africa Eastern and Southern</td>\n",
       "      <td>4.223771</td>\n",
       "      <td>9.221934</td>\n",
       "    </tr>\n",
       "    <tr>\n",
       "      <th>2</th>\n",
       "      <td>Afghanistan</td>\n",
       "      <td>4.840000</td>\n",
       "      <td>9.931871</td>\n",
       "    </tr>\n",
       "    <tr>\n",
       "      <th>3</th>\n",
       "      <td>Africa Western and Central</td>\n",
       "      <td>4.497707</td>\n",
       "      <td>9.067182</td>\n",
       "    </tr>\n",
       "    <tr>\n",
       "      <th>4</th>\n",
       "      <td>Angola</td>\n",
       "      <td>5.124000</td>\n",
       "      <td>8.389088</td>\n",
       "    </tr>\n",
       "    <tr>\n",
       "      <th>...</th>\n",
       "      <td>...</td>\n",
       "      <td>...</td>\n",
       "      <td>...</td>\n",
       "    </tr>\n",
       "    <tr>\n",
       "      <th>260</th>\n",
       "      <td>Kosovo</td>\n",
       "      <td>1.545000</td>\n",
       "      <td>8.593862</td>\n",
       "    </tr>\n",
       "    <tr>\n",
       "      <th>261</th>\n",
       "      <td>Yemen, Rep.</td>\n",
       "      <td>4.590000</td>\n",
       "      <td>9.017466</td>\n",
       "    </tr>\n",
       "    <tr>\n",
       "      <th>262</th>\n",
       "      <td>South Africa</td>\n",
       "      <td>2.216000</td>\n",
       "      <td>7.839738</td>\n",
       "    </tr>\n",
       "    <tr>\n",
       "      <th>263</th>\n",
       "      <td>Zambia</td>\n",
       "      <td>4.101000</td>\n",
       "      <td>9.371021</td>\n",
       "    </tr>\n",
       "    <tr>\n",
       "      <th>264</th>\n",
       "      <td>Zimbabwe</td>\n",
       "      <td>3.724000</td>\n",
       "      <td>9.265828</td>\n",
       "    </tr>\n",
       "  </tbody>\n",
       "</table>\n",
       "<p>265 rows × 3 columns</p>\n",
       "</div>"
      ],
      "text/plain": [
       "                    Country Name  Fertility Rate [births per woman]  \\\n",
       "0                          Aruba                           1.602000   \n",
       "1    Africa Eastern and Southern                           4.223771   \n",
       "2                    Afghanistan                           4.840000   \n",
       "3     Africa Western and Central                           4.497707   \n",
       "4                         Angola                           5.124000   \n",
       "..                           ...                                ...   \n",
       "260                       Kosovo                           1.545000   \n",
       "261                  Yemen, Rep.                           4.590000   \n",
       "262                 South Africa                           2.216000   \n",
       "263                       Zambia                           4.101000   \n",
       "264                     Zimbabwe                           3.724000   \n",
       "\n",
       "     Female Population Ages 20-24 [% of female population]  \n",
       "0                                             5.371455      \n",
       "1                                             9.221934      \n",
       "2                                             9.931871      \n",
       "3                                             9.067182      \n",
       "4                                             8.389088      \n",
       "..                                                 ...      \n",
       "260                                           8.593862      \n",
       "261                                           9.017466      \n",
       "262                                           7.839738      \n",
       "263                                           9.371021      \n",
       "264                                           9.265828      \n",
       "\n",
       "[265 rows x 3 columns]"
      ]
     },
     "execution_count": 4,
     "metadata": {},
     "output_type": "execute_result"
    }
   ],
   "source": [
    "#combine datasets\n",
    "Data_23 = pd.merge(Fert_23, Pop_23, how=\"inner\", on=\"Country Name\")\n",
    "#rename columns\n",
    "Data_23 = Data_23.rename(columns={'2023_x': 'Fertility Rate [births per woman]', '2023_y': 'Female Population Ages 20-24 [% of female population]'})\n",
    "#display\n",
    "Data_23"
   ]
  },
  {
   "cell_type": "markdown",
   "id": "345e0d54-8963-4f73-962e-41cf7dfc8d88",
   "metadata": {},
   "source": [
    "We sourced our own datasets from data.worldbank.org. Our fertility data came from this dataset: https://data.worldbank.org/indicator/SP.DYN.TFRT.IN. Our female population (ages 20-24) data came from this dataset: https://data.worldbank.org/indicator/SP.POP.2024.FE.5Y."
   ]
  },
  {
   "cell_type": "markdown",
   "id": "f4e94509-039c-462c-b897-0034936387b5",
   "metadata": {},
   "source": [
    "### **Summary Statistics**"
   ]
  },
  {
   "cell_type": "code",
   "execution_count": 5,
   "id": "f9c7bf54-6a96-47d9-823a-92f695dbc305",
   "metadata": {},
   "outputs": [],
   "source": [
    "#codeandshit"
   ]
  },
  {
   "cell_type": "markdown",
   "id": "6cb3ea8d-8d66-4745-9b4e-d57faa5b17db",
   "metadata": {},
   "source": [
    "### **Visualizations**"
   ]
  },
  {
   "cell_type": "code",
   "execution_count": 9,
   "id": "ea01591c-0e27-4e25-83ca-63db1530242e",
   "metadata": {},
   "outputs": [
    {
     "data": {
      "image/png": "[encoded data removed]",
      "text/plain": [
       "<Figure size 600x400 with 1 Axes>"
      ]
     },
     "metadata": {},
     "output_type": "display_data"
    },
    {
     "name": "stdout",
     "output_type": "stream",
     "text": [
      "Correlation between GDP and Fertility: 0.689\n"
     ]
    }
   ],
   "source": [
    "#plot data\n",
    "plt.figure(figsize=(6, 4))\n",
    "plt.scatter(Data_23['Fertility Rate [births per woman]'], Data_23['Female Population Ages 20-24 [% of female population]'], alpha=0.7)\n",
    "plt.xlabel('Births per woman]')\n",
    "plt.ylabel('% of female population ages 20-24')\n",
    "plt.title('Fertility vs Female Population Ages 20-24')\n",
    "plt.grid(True)\n",
    "plt.show()\n",
    "\n",
    "#calculate correlation\n",
    "correlation = Data_23['Fertility Rate [births per woman]'].corr(Data_23['Female Population Ages 20-24 [% of female population]'])\n",
    "print(f\"Correlation between GDP and Fertility: {correlation:.3f}\")"
   ]
  },
  {
   "cell_type": "markdown",
   "id": "e841fbe5-b242-4941-8523-776ef2b959fa",
   "metadata": {},
   "source": [
    "### **Independence**"
   ]
  },
  {
   "cell_type": "code",
   "execution_count": 4,
   "id": "9ee0cddd-2fbf-46d9-9d0e-9adb0f42edd0",
   "metadata": {},
   "outputs": [],
   "source": [
    "#codeandshit"
   ]
  },
  {
   "cell_type": "code",
   "execution_count": null,
   "id": "b3f6e29b-08f1-457f-9149-83d420317ac0",
   "metadata": {},
   "outputs": [],
   "source": []
  }
 ],
 "metadata": {
  "kernelspec": {
   "display_name": "Python 3 (ipykernel)",
   "language": "python",
   "name": "python3"
  },
  "language_info": {
   "codemirror_mode": {
    "name": "ipython",
    "version": 3
   },
   "file_extension": ".py",
   "mimetype": "text/x-python",
   "name": "python",
   "nbconvert_exporter": "python",
   "pygments_lexer": "ipython3",
   "version": "3.11.13"
  }
 },
 "nbformat": 4,
 "nbformat_minor": 5
}
